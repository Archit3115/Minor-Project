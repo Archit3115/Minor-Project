{
 "cells": [
  {
   "cell_type": "code",
   "execution_count": 39,
   "metadata": {},
   "outputs": [],
   "source": [
    "import numpy as np\n",
    "from numpy import pi\n",
    "# importing Qiskit\n",
    "import qiskit\n",
    "from qiskit import QuantumCircuit, execute, Aer, IBMQ\n",
    "from qiskit.providers.ibmq import least_busy\n",
    "from qiskit.tools.monitor import job_monitor\n",
    "from qiskit.visualization import plot_histogram, plot_bloch_multivector\n",
    "from qiskit.circuit.library import QFT\n",
    "%config InlineBackend.figure_format = 'svg' # Makes the images look nice"
   ]
  },
  {
   "cell_type": "code",
   "execution_count": 40,
   "metadata": {},
   "outputs": [],
   "source": [
    "qc = QuantumCircuit(3)"
   ]
  },
  {
   "cell_type": "code",
   "execution_count": 41,
   "metadata": {
    "scrolled": false
   },
   "outputs": [
    {
     "data": {
      "text/html": [
       "<pre style=\"word-wrap: normal;white-space: pre;background: #fff0;line-height: 1.1;font-family: &quot;Courier New&quot;,Courier,monospace\">          \n",
       "q_0: ─────\n",
       "          \n",
       "q_1: ─────\n",
       "     ┌───┐\n",
       "q_2: ┤ H ├\n",
       "     └───┘</pre>"
      ],
      "text/plain": [
       "          \n",
       "q_0: ─────\n",
       "          \n",
       "q_1: ─────\n",
       "     ┌───┐\n",
       "q_2: ┤ H ├\n",
       "     └───┘"
      ]
     },
     "execution_count": 41,
     "metadata": {},
     "output_type": "execute_result"
    }
   ],
   "source": [
    "qc.h(2)\n",
    "qc.draw()"
   ]
  },
  {
   "cell_type": "code",
   "execution_count": 42,
   "metadata": {},
   "outputs": [
    {
     "data": {
      "text/html": [
       "<pre style=\"word-wrap: normal;white-space: pre;background: #fff0;line-height: 1.1;font-family: &quot;Courier New&quot;,Courier,monospace\">                \n",
       "q_0: ───────────\n",
       "                \n",
       "q_1: ──────■────\n",
       "     ┌───┐ │π/2 \n",
       "q_2: ┤ H ├─■────\n",
       "     └───┘      </pre>"
      ],
      "text/plain": [
       "                \n",
       "q_0: ───────────\n",
       "                \n",
       "q_1: ──────■────\n",
       "     ┌───┐ │π/2 \n",
       "q_2: ┤ H ├─■────\n",
       "     └───┘      "
      ]
     },
     "execution_count": 42,
     "metadata": {},
     "output_type": "execute_result"
    }
   ],
   "source": [
    "qc.cu1(pi/2, 1, 2) # CROT from qubit 1 to qubit 2\n",
    "qc.draw()"
   ]
  },
  {
   "cell_type": "code",
   "execution_count": 43,
   "metadata": {},
   "outputs": [
    {
     "data": {
      "text/html": [
       "<pre style=\"word-wrap: normal;white-space: pre;background: #fff0;line-height: 1.1;font-family: &quot;Courier New&quot;,Courier,monospace\">                      \n",
       "q_0: ────────────■────\n",
       "                 │    \n",
       "q_1: ──────■─────┼────\n",
       "     ┌───┐ │π/2  │π/4 \n",
       "q_2: ┤ H ├─■─────■────\n",
       "     └───┘            </pre>"
      ],
      "text/plain": [
       "                      \n",
       "q_0: ────────────■────\n",
       "                 │    \n",
       "q_1: ──────■─────┼────\n",
       "     ┌───┐ │π/2  │π/4 \n",
       "q_2: ┤ H ├─■─────■────\n",
       "     └───┘            "
      ]
     },
     "execution_count": 43,
     "metadata": {},
     "output_type": "execute_result"
    }
   ],
   "source": [
    "qc.cu1(pi/4, 0, 2) # CROT from qubit 2 to qubit 0\n",
    "qc.draw()"
   ]
  },
  {
   "cell_type": "code",
   "execution_count": 44,
   "metadata": {},
   "outputs": [
    {
     "data": {
      "text/html": [
       "<pre style=\"word-wrap: normal;white-space: pre;background: #fff0;line-height: 1.1;font-family: &quot;Courier New&quot;,Courier,monospace\">                                 ┌───┐\n",
       "q_0: ────────────■──────────■────┤ H ├\n",
       "                 │    ┌───┐ │π/2 └───┘\n",
       "q_1: ──────■─────┼────┤ H ├─■─────────\n",
       "     ┌───┐ │π/2  │π/4 └───┘           \n",
       "q_2: ┤ H ├─■─────■────────────────────\n",
       "     └───┘                            </pre>"
      ],
      "text/plain": [
       "                                 ┌───┐\n",
       "q_0: ────────────■──────────■────┤ H ├\n",
       "                 │    ┌───┐ │π/2 └───┘\n",
       "q_1: ──────■─────┼────┤ H ├─■─────────\n",
       "     ┌───┐ │π/2  │π/4 └───┘           \n",
       "q_2: ┤ H ├─■─────■────────────────────\n",
       "     └───┘                            "
      ]
     },
     "execution_count": 44,
     "metadata": {},
     "output_type": "execute_result"
    }
   ],
   "source": [
    "qc.h(1)\n",
    "qc.cu1(pi/2, 0, 1) # CROT from qubit 0 to qubit 1\n",
    "qc.h(0)\n",
    "qc.draw()"
   ]
  },
  {
   "cell_type": "code",
   "execution_count": 45,
   "metadata": {},
   "outputs": [
    {
     "data": {
      "text/html": [
       "<pre style=\"word-wrap: normal;white-space: pre;background: #fff0;line-height: 1.1;font-family: &quot;Courier New&quot;,Courier,monospace\">                                 ┌───┐   \n",
       "q_0: ────────────■──────────■────┤ H ├─X─\n",
       "                 │    ┌───┐ │π/2 └───┘ │ \n",
       "q_1: ──────■─────┼────┤ H ├─■──────────┼─\n",
       "     ┌───┐ │π/2  │π/4 └───┘            │ \n",
       "q_2: ┤ H ├─■─────■─────────────────────X─\n",
       "     └───┘                               </pre>"
      ],
      "text/plain": [
       "                                 ┌───┐   \n",
       "q_0: ────────────■──────────■────┤ H ├─X─\n",
       "                 │    ┌───┐ │π/2 └───┘ │ \n",
       "q_1: ──────■─────┼────┤ H ├─■──────────┼─\n",
       "     ┌───┐ │π/2  │π/4 └───┘            │ \n",
       "q_2: ┤ H ├─■─────■─────────────────────X─\n",
       "     └───┘                               "
      ]
     },
     "execution_count": 45,
     "metadata": {},
     "output_type": "execute_result"
    }
   ],
   "source": [
    "qc.swap(0,2)\n",
    "qc.draw()"
   ]
  },
  {
   "cell_type": "code",
   "execution_count": 46,
   "metadata": {},
   "outputs": [],
   "source": [
    "def qft_rotations(circuit, n):\n",
    "    if n == 0: # Exit function if circuit is empty\n",
    "        return circuit\n",
    "    n -= 1 # Indexes start from 0\n",
    "    circuit.h(n) # Apply the H-gate to the most significant qubit\n",
    "    for qubit in range(n):\n",
    "        # For each less significant qubit, we need to do a\n",
    "        # smaller-angled controlled rotation: \n",
    "        circuit.cu1(pi/2**(n-qubit), qubit, n)"
   ]
  },
  {
   "cell_type": "code",
   "execution_count": 47,
   "metadata": {},
   "outputs": [
    {
     "data": {
      "text/html": [
       "<pre style=\"word-wrap: normal;white-space: pre;background: #fff0;line-height: 1.1;font-family: &quot;Courier New&quot;,Courier,monospace\">                            \n",
       "q_0: ──────■────────────────\n",
       "           │                \n",
       "q_1: ──────┼─────■──────────\n",
       "           │     │          \n",
       "q_2: ──────┼─────┼─────■────\n",
       "     ┌───┐ │π/8  │π/4  │π/2 \n",
       "q_3: ┤ H ├─■─────■─────■────\n",
       "     └───┘                  </pre>"
      ],
      "text/plain": [
       "                            \n",
       "q_0: ──────■────────────────\n",
       "           │                \n",
       "q_1: ──────┼─────■──────────\n",
       "           │     │          \n",
       "q_2: ──────┼─────┼─────■────\n",
       "     ┌───┐ │π/8  │π/4  │π/2 \n",
       "q_3: ┤ H ├─■─────■─────■────\n",
       "     └───┘                  "
      ]
     },
     "execution_count": 47,
     "metadata": {},
     "output_type": "execute_result"
    }
   ],
   "source": [
    "qc = QuantumCircuit(4)\n",
    "qft_rotations(qc,4)\n",
    "qc.draw()"
   ]
  },
  {
   "cell_type": "code",
   "execution_count": 48,
   "metadata": {
    "scrolled": true
   },
   "outputs": [
    {
     "data": {
      "text/html": [
       "<pre style=\"word-wrap: normal;white-space: pre;background: #fff0;line-height: 1.1;font-family: &quot;Courier New&quot;,Courier,monospace\">                                  \n",
       "q_0: ──────■─────────────────X────\n",
       "           │                 │    \n",
       "q_1: ──────┼─────■───────────┼──X─\n",
       "           │     │           │  │ \n",
       "q_2: ──────┼─────┼─────■─────┼──X─\n",
       "     ┌───┐ │π/8  │π/4  │π/2  │    \n",
       "q_3: ┤ H ├─■─────■─────■─────X────\n",
       "     └───┘                        </pre>"
      ],
      "text/plain": [
       "                                  \n",
       "q_0: ──────■─────────────────X────\n",
       "           │                 │    \n",
       "q_1: ──────┼─────■───────────┼──X─\n",
       "           │     │           │  │ \n",
       "q_2: ──────┼─────┼─────■─────┼──X─\n",
       "     ┌───┐ │π/8  │π/4  │π/2  │    \n",
       "q_3: ┤ H ├─■─────■─────■─────X────\n",
       "     └───┘                        "
      ]
     },
     "execution_count": 48,
     "metadata": {},
     "output_type": "execute_result"
    }
   ],
   "source": [
    "def swap_registers(circuit, n):    \n",
    "    for qubit in range(n//2):\n",
    "        circuit.swap(qubit, n-qubit-1)\n",
    "    return circuit\n",
    "\n",
    "def qft(circuit, n):\n",
    "    \"\"\"QFT on the first n qubits in circuit\"\"\"\n",
    "    qft_rotations(circuit, n)\n",
    "    swap_registers(circuit, n)\n",
    "    return circuit\n",
    "\n",
    "# Let's see how it looks:\n",
    "qc = QuantumCircuit(4)\n",
    "qft(qc,4)\n",
    "qc.draw()"
   ]
  },
  {
   "cell_type": "code",
   "execution_count": 49,
   "metadata": {},
   "outputs": [
    {
     "data": {
      "text/html": [
       "<pre style=\"word-wrap: normal;white-space: pre;background: #fff0;line-height: 1.1;font-family: &quot;Courier New&quot;,Courier,monospace\">     ┌───┐\n",
       "q_0: ┤ X ├\n",
       "     └───┘\n",
       "q_1: ─────\n",
       "     ┌───┐\n",
       "q_2: ┤ X ├\n",
       "     └───┘</pre>"
      ],
      "text/plain": [
       "     ┌───┐\n",
       "q_0: ┤ X ├\n",
       "     └───┘\n",
       "q_1: ─────\n",
       "     ┌───┐\n",
       "q_2: ┤ X ├\n",
       "     └───┘"
      ]
     },
     "execution_count": 49,
     "metadata": {},
     "output_type": "execute_result"
    }
   ],
   "source": [
    "# Create the circuit\n",
    "qc = QuantumCircuit(3)\n",
    "\n",
    "# Encode the state 5\n",
    "qc.x(0)\n",
    "qc.x(2)\n",
    "%config InlineBackend.figure_format = 'svg' # Makes the images fit\n",
    "qc.draw()"
   ]
  },
  {
   "cell_type": "code",
   "execution_count": 50,
   "metadata": {},
   "outputs": [],
   "source": [
    "backend = Aer.get_backend(\"statevector_simulator\")\n",
    "statevector = execute(qc, backend=backend).result().get_statevector()\n",
    "#plot_bloch_multivector(statevector)"
   ]
  },
  {
   "cell_type": "code",
   "execution_count": 51,
   "metadata": {},
   "outputs": [
    {
     "data": {
      "text/html": [
       "<pre style=\"word-wrap: normal;white-space: pre;background: #fff0;line-height: 1.1;font-family: &quot;Courier New&quot;,Courier,monospace\">     ┌───┐                    \n",
       "q_0: ┤ X ├──────■───────────X─\n",
       "     └───┘      │           │ \n",
       "q_1: ───────────┼─────■─────┼─\n",
       "     ┌───┐┌───┐ │π/4  │π/2  │ \n",
       "q_2: ┤ X ├┤ H ├─■─────■─────X─\n",
       "     └───┘└───┘               </pre>"
      ],
      "text/plain": [
       "     ┌───┐                    \n",
       "q_0: ┤ X ├──────■───────────X─\n",
       "     └───┘      │           │ \n",
       "q_1: ───────────┼─────■─────┼─\n",
       "     ┌───┐┌───┐ │π/4  │π/2  │ \n",
       "q_2: ┤ X ├┤ H ├─■─────■─────X─\n",
       "     └───┘└───┘               "
      ]
     },
     "execution_count": 51,
     "metadata": {},
     "output_type": "execute_result"
    }
   ],
   "source": [
    "qft(qc,3)\n",
    "qft = QFT(len(qc))\n",
    "qc.draw()"
   ]
  },
  {
   "cell_type": "code",
   "execution_count": 58,
   "metadata": {},
   "outputs": [],
   "source": [
    "plot = qft.draw('mpl')\n",
    "\n",
    "from matplotlib import pyplot as plt\n",
    "\n",
    "plot.savefig('E:\\plot.png', bbox_inches = 'tight')"
   ]
  },
  {
   "cell_type": "code",
   "execution_count": 36,
   "metadata": {},
   "outputs": [
    {
     "data": {
      "text/plain": [
       "{'qiskit-terra': '0.16.1',\n",
       " 'qiskit-aer': '0.7.1',\n",
       " 'qiskit-ignis': '0.5.1',\n",
       " 'qiskit-ibmq-provider': '0.11.1',\n",
       " 'qiskit-aqua': '0.8.1',\n",
       " 'qiskit': '0.23.1'}"
      ]
     },
     "execution_count": 36,
     "metadata": {},
     "output_type": "execute_result"
    }
   ],
   "source": [
    "qiskit.__qiskit_version__"
   ]
  },
  {
   "cell_type": "code",
   "execution_count": null,
   "metadata": {},
   "outputs": [],
   "source": []
  }
 ],
 "metadata": {
  "kernelspec": {
   "display_name": "Python 3",
   "language": "python",
   "name": "python3"
  },
  "language_info": {
   "codemirror_mode": {
    "name": "ipython",
    "version": 3
   },
   "file_extension": ".py",
   "mimetype": "text/x-python",
   "name": "python",
   "nbconvert_exporter": "python",
   "pygments_lexer": "ipython3",
   "version": "3.7.6"
  }
 },
 "nbformat": 4,
 "nbformat_minor": 4
}
